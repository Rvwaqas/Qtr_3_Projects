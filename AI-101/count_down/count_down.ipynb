{
  "nbformat": 4,
  "nbformat_minor": 0,
  "metadata": {
    "colab": {
      "provenance": []
    },
    "kernelspec": {
      "name": "python3",
      "display_name": "Python 3"
    },
    "language_info": {
      "name": "python"
    }
  },
  "cells": [
    {
      "cell_type": "code",
      "execution_count": null,
      "metadata": {
        "colab": {
          "base_uri": "https://localhost:8080/"
        },
        "id": "Bfe8lvxtwnTE",
        "outputId": "bdfafcb4-9bf0-4849-f2cd-c2a7fef095d7"
      },
      "outputs": [
        {
          "output_type": "stream",
          "name": "stdout",
          "text": [
            "Enter Seconds20\n"
          ]
        }
      ],
      "source": [
        "from time import sleep\n",
        "\n",
        "\n",
        "def main(sec):\n",
        "    while(sec>=0):\n",
        "        mins,secs=divmod(sec,60)\n",
        "        time=\"  {:02d}:{:02d}\".format(mins,secs)\n",
        "        print(time,end=\"\\r\")\n",
        "        sleep(1)\n",
        "        sec-=1\n",
        "\n",
        "\n",
        "\n",
        "seconds=int(input(\"Enter Seconds\"))\n",
        "\n",
        "if(seconds>0):\n",
        "    main(seconds)\n",
        "else:\n",
        "    print(\"seconds must be greater then 0\")\n",
        "\n",
        "\n"
      ]
    }
  ]
}