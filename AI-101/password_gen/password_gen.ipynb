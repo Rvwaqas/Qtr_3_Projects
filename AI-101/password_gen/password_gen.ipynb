{
  "nbformat": 4,
  "nbformat_minor": 0,
  "metadata": {
    "colab": {
      "provenance": []
    },
    "kernelspec": {
      "name": "python3",
      "display_name": "Python 3"
    },
    "language_info": {
      "name": "python"
    }
  },
  "cells": [
    {
      "cell_type": "code",
      "execution_count": null,
      "metadata": {
        "id": "KE55OBs1xpyJ"
      },
      "outputs": [],
      "source": [
        "import string\n",
        "import random\n",
        "\n",
        "def generate_password(length):\n",
        "    lower_letters=string.ascii_lowercase\n",
        "    upper_letters=string.ascii_uppercase\n",
        "    digitals=string.digits\n",
        "    special_character=string.punctuation\n",
        "\n",
        "    all_character=lower_letters+upper_letters+digitals+special_character\n",
        "\n",
        "    password=''.join(random.choice(all_character) for _ in range(length))\n",
        "    return password\n",
        "\n",
        "\n",
        "try:\n",
        "    length=int(input(\"Enter password length\"))\n",
        "    if(length<8):\n",
        "        print(\"Password should be greater then 8\")\n",
        "    else:\n",
        "        password=generate_password(length)\n",
        "        print(\"Generated password:\", password)\n",
        "except ValueError:\n",
        "    print(\"Please enter a valid number for password length\")"
      ]
    }
  ]
}